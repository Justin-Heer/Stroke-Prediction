{
 "cells": [
  {
   "cell_type": "markdown",
   "metadata": {},
   "source": [
    "# Regularized Logistic Regression Model\n",
    "## Justin Heer, Simon Fraser University"
   ]
  },
  {
   "cell_type": "code",
   "execution_count": 1,
   "metadata": {},
   "outputs": [],
   "source": [
    "import pandas as pd\n",
    "import numpy as np\n",
    "from matplotlib import pyplot as plt\n",
    "\n",
    "from sklearn.metrics import f1_score,classification_report, recall_score, precision_score\n",
    "from sklearn.linear_model import LogisticRegression\n",
    "from sklearn.model_selection import train_test_split\n",
    "\n",
    "%config Completer.use_jedi = False"
   ]
  },
  {
   "cell_type": "markdown",
   "metadata": {},
   "source": [
    "Define the custom loss function"
   ]
  },
  {
   "cell_type": "code",
   "execution_count": 2,
   "metadata": {},
   "outputs": [],
   "source": [
    "def custom_loss(y_true, y_pred):\n",
    "    r = recall_score(y_true, y_pred)\n",
    "    p = precision_score(y_true, y_pred)\n",
    "    \n",
    "    return r*0.6 + p*0.4"
   ]
  },
  {
   "cell_type": "code",
   "execution_count": 3,
   "metadata": {},
   "outputs": [],
   "source": [
    "df = pd.read_csv(r\"database\\\\processed-data.csv\",index_col=0)"
   ]
  },
  {
   "cell_type": "markdown",
   "metadata": {},
   "source": [
    "#### Tuning on multiple random samples of the data, iterate through the hyperparameters one by one, following the coordinate descent method "
   ]
  },
  {
   "cell_type": "code",
   "execution_count": 5,
   "metadata": {},
   "outputs": [
    {
     "name": "stdout",
     "output_type": "stream",
     "text": [
      "current iteration is 0\n",
      "current iteration is 10\n",
      "current iteration is 20\n",
      "current iteration is 30\n",
      "current iteration is 40\n"
     ]
    }
   ],
   "source": [
    "inx1 = df['stroke'] ==1\n",
    "stroke_df = df.loc[inx1,:]\n",
    "C = np.linspace(0.75,1.2,1000)\n",
    "scores = []\n",
    "for i in range(0,50):\n",
    "    if i%10==0:\n",
    "        print(f\"current iteration is {i}\")\n",
    "    no_stroke_df = df.loc[~inx1,:].sample(247)\n",
    "\n",
    "    df_sample = pd.concat((stroke_df,no_stroke_df))\n",
    "    y = df_sample['stroke']\n",
    "    X = df_sample.drop('stroke', axis=1).values\n",
    "    \n",
    "    X_train, X_val, y_train, y_val = train_test_split(X,y,test_size=0.2,random_state=1)\n",
    "    X_val, X_test, y_val, y_test = train_test_split(X_val,y_val,test_size=0.2,random_state=1)\n",
    "\n",
    "    score = []\n",
    "    for c in C:\n",
    "        model = LogisticRegression(\n",
    "            C=0.03,\n",
    "            max_iter = 1000,\n",
    "            n_jobs=1,\n",
    "            random_state=1,\n",
    "            solver = 'liblinear',\n",
    "            fit_intercept = True,\n",
    "            intercept_scaling = c,\n",
    "            penalty = 'l2',\n",
    "            \n",
    "        )\n",
    "            \n",
    "        model.fit(X_train,y_train)\n",
    "\n",
    "        y_pred = model.predict(X_val)\n",
    "        score.append(custom_loss(y_val,y_pred))\n",
    "    scores.append(score)\n",
    "    "
   ]
  },
  {
   "cell_type": "markdown",
   "metadata": {},
   "source": [
    "Tally up scores and then plot for each run"
   ]
  },
  {
   "cell_type": "code",
   "execution_count": 267,
   "metadata": {},
   "outputs": [],
   "source": [
    "scores = np.array(scores)\n",
    "mean_score = scores.mean(axis=0)"
   ]
  },
  {
   "cell_type": "code",
   "execution_count": 268,
   "metadata": {},
   "outputs": [
    {
     "data": {
      "text/plain": [
       "[<matplotlib.lines.Line2D at 0x17961029588>]"
      ]
     },
     "execution_count": 268,
     "metadata": {},
     "output_type": "execute_result"
    },
    {
     "data": {
      "image/png": "[encoded data removed]",
      "text/plain": [
       "<Figure size 432x288 with 1 Axes>"
      ]
     },
     "metadata": {
      "needs_background": "light"
     },
     "output_type": "display_data"
    }
   ],
   "source": [
    "for score in scores:\n",
    "    plt.plot(C,score,'o')\n",
    "plt.plot(C,mean_score,'-k')\n"
   ]
  },
  {
   "cell_type": "markdown",
   "metadata": {},
   "source": [
    "#### Test the hyperparameters on the test data"
   ]
  },
  {
   "cell_type": "code",
   "execution_count": 29,
   "metadata": {},
   "outputs": [
    {
     "name": "stdout",
     "output_type": "stream",
     "text": [
      "current iteration is 0\n",
      "current iteration is 10\n",
      "current iteration is 20\n",
      "current iteration is 30\n",
      "current iteration is 40\n",
      "Wall time: 299 ms\n"
     ]
    }
   ],
   "source": [
    "inx1 = df['stroke'] ==1\n",
    "stroke_df = df.loc[inx1,:]\n",
    "scores = []\n",
    "recalls = []\n",
    "precs = []\n",
    "for i in range(0,50):\n",
    "    if i%10==0:\n",
    "        print(f\"current iteration is {i}\")\n",
    "    no_stroke_df = df.loc[~inx1,:].sample(247)\n",
    "\n",
    "    df_sample = pd.concat((stroke_df,no_stroke_df))\n",
    "    y = df_sample['stroke']\n",
    "    X = df_sample.drop('stroke', axis=1).values\n",
    "    \n",
    "    X_train, X_test, y_train, y_test = train_test_split(X,y,test_size=0.2,random_state=1)\n",
    "\n",
    "    model = LogisticRegression(\n",
    "            C=0.03,\n",
    "            max_iter = 4000,\n",
    "            random_state=1,\n",
    "            solver = 'liblinear',\n",
    "            fit_intercept = True,\n",
    "            intercept_scaling = 0.9,\n",
    "            penalty = 'l2',\n",
    "            tol = 1e-14,\n",
    "        )\n",
    "    \n",
    "    model.fit(X_train,y_train)\n",
    "\n",
    "    y_pred = model.predict(X_test)\n",
    "    scores.append(custom_loss(y_test,y_pred))\n",
    "    recalls.append(recall_score(y_test,y_pred))\n",
    "    precs.append(precision_score(y_test,y_pred))\n",
    "scores = np.array(scores)\n",
    "recalls = np.array(recalls)\n",
    "precs = np.array(precs)"
   ]
  },
  {
   "cell_type": "code",
   "execution_count": 295,
   "metadata": {},
   "outputs": [
    {
     "data": {
      "image/png": "[encoded data removed]",
      "text/plain": [
       "<Figure size 432x288 with 1 Axes>"
      ]
     },
     "metadata": {
      "needs_background": "light"
     },
     "output_type": "display_data"
    }
   ],
   "source": [
    "plt.hist(scores, bins=10)\n",
    "plt.show()"
   ]
  },
  {
   "cell_type": "code",
   "execution_count": 6,
   "metadata": {},
   "outputs": [
    {
     "data": {
      "text/plain": [
       "0.9297674418604653"
      ]
     },
     "execution_count": 6,
     "metadata": {},
     "output_type": "execute_result"
    }
   ],
   "source": [
    "recalls.mean()"
   ]
  },
  {
   "cell_type": "code",
   "execution_count": 7,
   "metadata": {},
   "outputs": [
    {
     "data": {
      "text/plain": [
       "0.6232469764984276"
      ]
     },
     "execution_count": 7,
     "metadata": {},
     "output_type": "execute_result"
    }
   ],
   "source": [
    "precs.mean()"
   ]
  },
  {
   "cell_type": "code",
   "execution_count": 8,
   "metadata": {},
   "outputs": [
    {
     "data": {
      "text/plain": [
       "0.80715925571565"
      ]
     },
     "execution_count": 8,
     "metadata": {},
     "output_type": "execute_result"
    }
   ],
   "source": [
    "scores.mean()"
   ]
  }
 ],
 "metadata": {
  "kernelspec": {
   "display_name": "Python 3",
   "language": "python",
   "name": "python3"
  },
  "language_info": {
   "codemirror_mode": {
    "name": "ipython",
    "version": 3
   },
   "file_extension": ".py",
   "mimetype": "text/x-python",
   "name": "python",
   "nbconvert_exporter": "python",
   "pygments_lexer": "ipython3",
   "version": "3.7.9"
  }
 },
 "nbformat": 4,
 "nbformat_minor": 4
}
